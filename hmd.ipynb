{
 "cells": [
  {
   "cell_type": "code",
   "execution_count": null,
   "metadata": {},
   "outputs": [],
   "source": [
    "import matplotlib.pyplot as plt\n",
    "import pandas as pd"
   ]
  },
  {
   "cell_type": "code",
   "execution_count": null,
   "metadata": {},
   "outputs": [],
   "source": [
    "def load_matrix(filepath, ages=range(35,65+1), years=range(2015,2022+1), transpose=False):\n",
    "    df = pd.read_csv(filepath, index_col=0)\n",
    "    if transpose:\n",
    "        df = df.T\n",
    "    df.columns = [int(col) if isinstance(col, int) or col.isdigit() else int(col[4:]) for col in df.columns]\n",
    "    df.index = [int(idx) if isinstance(idx, int) or idx.isdigit() else int(idx[5:]) for idx in df.index]\n",
    "    # Find common years and ages\n",
    "    common_years = df.index.intersection(years)\n",
    "    common_ages = df.columns.intersection(ages)\n",
    "    # Filter dataframes to only include common years and ages\n",
    "    mat = df.loc[common_years, common_ages].to_numpy()\n",
    "    return mat, common_ages, common_years"
   ]
  },
  {
   "cell_type": "code",
   "execution_count": null,
   "metadata": {},
   "outputs": [],
   "source": [
    "\n",
    "names = [\"IRL_F\", \"IRL_M\", \"UK_F\", \"UK_M\"]\n",
    "ages=range(35, 65+1)\n",
    "years=range(2015, 2022+1)\n",
    "\n",
    "for name in names:\n",
    "    QBrut, QBrut_ages, QBrut_years = load_matrix(f\"./matrices/BRUT_LISSES_{name}.csv\", ages=ages, years=years)\n",
    "    QHmd, QHmd_ages, QHmd_years = load_matrix(f\"./HMD_inputs/matrices/HMD_{name}.csv\", ages=ages, years=years, transpose=True)\n",
    "\n",
    "    n_years = len(years)\n",
    "    ncols = 3\n",
    "    nrows = (n_years + ncols - 1) // ncols  # Compute the number of rows needed\n",
    "    fig, axes = plt.subplots(nrows=nrows, ncols=ncols, figsize=(ncols * 6, nrows * 4), sharey=True)\n",
    "    plt.subplots_adjust(wspace=0.1, hspace=0.4)\n",
    "\n",
    "    # Flatten the axes array for easy iteration (in case of multiple rows)\n",
    "    axes = axes.flatten()\n",
    "\n",
    "    # Plotting\n",
    "    for year_idx, (ax, year) in enumerate(zip(axes, years)):\n",
    "        if year in QBrut_years:\n",
    "            ax.plot(QBrut_ages, QBrut[year_idx], color='blue', label='Taux bruts')\n",
    "        if year in QHmd_years:\n",
    "            ax.plot(QHmd_ages, QHmd[year_idx], color='red', label='Taux HMD')\n",
    "        ax.set_xlabel('Age')\n",
    "        ax.set_title(f\"Année {year}\")\n",
    "        if year_idx == 0:\n",
    "            ax.set_ylabel('Taux')\n",
    "            ax.legend()\n",
    "    # Hide any unused subplots\n",
    "    for ax in axes[n_years:]:\n",
    "        ax.axis('off')\n",
    "\n",
    "    fig.suptitle(f\"Comparaison des taux HMD avec les taux bruts {name}\")\n",
    "    # Adjust layout\n",
    "    plt.savefig(f\"images/HDM_BRUT_{name}_comparaison.png\", bbox_inches='tight')\n",
    "    plt.show()"
   ]
  },
  {
   "cell_type": "code",
   "execution_count": null,
   "metadata": {},
   "outputs": [],
   "source": []
  }
 ],
 "metadata": {
  "kernelspec": {
   "display_name": ".venv",
   "language": "python",
   "name": "python3"
  },
  "language_info": {
   "codemirror_mode": {
    "name": "ipython",
    "version": 3
   },
   "file_extension": ".py",
   "mimetype": "text/x-python",
   "name": "python",
   "nbconvert_exporter": "python",
   "pygments_lexer": "ipython3",
   "version": "3.11.6"
  },
  "orig_nbformat": 4
 },
 "nbformat": 4,
 "nbformat_minor": 2
}
